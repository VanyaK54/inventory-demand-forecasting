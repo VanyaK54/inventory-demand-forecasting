{
 "cells": [
  {
   "cell_type": "code",
   "execution_count": null,
   "id": "7395e8cd",
   "metadata": {
    "vscode": {
     "languageId": "plaintext"
    }
   },
   "outputs": [],
   "source": [
    "# 📦 Inventory Demand Forecasting – Notebook\n",
    "\n",
    "## 1. Load Data\n",
    "\n",
    "```python\n",
    "from src.data_loader import load_inventory_data, load_weather_data, load_holidays, merge_datasets\n",
    "inv = load_inventory_data()\n",
    "weather = load_weather_data()\n",
    "holidays = load_holidays()\n",
    "df = merge_datasets(inv, weather, holidays)\n"
   ]
  }
 ],
 "metadata": {
  "language_info": {
   "name": "python"
  }
 },
 "nbformat": 4,
 "nbformat_minor": 5
}
