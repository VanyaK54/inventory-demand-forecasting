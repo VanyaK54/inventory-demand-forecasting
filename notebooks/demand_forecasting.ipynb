{
 "cells": [
  {
   "cell_type": "code",
   "execution_count": null,
   "id": "7395e8cd",
   "metadata": {
    "vscode": {
     "languageId": "plaintext"
    }
   },
   "outputs": [],
   "source": [
    "# 📦 Inventory Demand Forecasting – Notebook\n",
    "\n",
    "## 1. Load Data\n",
    "\n",
    "```python\n",
    "from src.data_loader import load_inventory_data, load_weather_data, load_holidays, merge_datasets\n",
    "inv = load_inventory_data()\n",
    "weather = load_weather_data()\n",
    "holidays = load_holidays()\n",
    "df = merge_datasets(inv, weather, holidays)\n"
   ]
  },
  {
   "cell_type": "code",
   "execution_count": null,
   "id": "46281adc",
   "metadata": {
    "vscode": {
     "languageId": "plaintext"
    }
   },
   "outputs": [],
   "source": [
    "## 2. Feature Engineering\n",
    "from src.feature_engineer import add_time_features, create_rolling_features\n",
    "df = add_time_features(df)\n",
    "df = create_rolling_features(df)\n"
   ]
  },
  {
   "cell_type": "code",
   "execution_count": null,
   "id": "315572cd",
   "metadata": {
    "vscode": {
     "languageId": "plaintext"
    }
   },
   "outputs": [],
   "source": [
    "## 3. Prophet Forecast\n",
    "\n",
    "from src.model_prophet import forecast_with_prophet\n",
    "forecast = forecast_with_prophet(df[df['warehouse_id'] == 'Toronto_W1'], holidays_df=holidays)\n",
    "forecast[['ds', 'yhat']].tail()\n"
   ]
  },
  {
   "cell_type": "code",
   "execution_count": null,
   "id": "162ed8fb",
   "metadata": {
    "vscode": {
     "languageId": "plaintext"
    }
   },
   "outputs": [],
   "source": [
    "## 4. LSTM Forecast (Example)\n",
    "\n",
    "from src.model_lstm import train_lstm_model\n",
    "model, scaler = train_lstm_model(df[df['warehouse_id'] == 'Toronto_W1'])\n"
   ]
  },
  {
   "cell_type": "code",
   "execution_count": null,
   "id": "0c11cdea",
   "metadata": {
    "vscode": {
     "languageId": "plaintext"
    }
   },
   "outputs": [],
   "source": [
    "\n",
    "\n",
    "### ✅ `app/streamlit_app.py`  \n",
    "🌐 **Purpose:** Run a web-based demo of Prophet forecasts\n",
    "\n",
    "```python\n",
    "import streamlit as st\n",
    "import pandas as pd\n",
    "from src.model_prophet import forecast_with_prophet\n",
    "from src.data_loader import load_inventory_data, load_holidays\n",
    "\n",
    "st.title(\"📦 Inventory Demand Forecasting App\")\n",
    "\n",
    "uploaded = st.file_uploader(\"Upload your inventory CSV\", type=['csv'])\n",
    "\n",
    "if uploaded:\n",
    "    df = pd.read_csv(uploaded, parse_dates=['date'])\n",
    "    holidays = load_holidays()\n",
    "    forecast = forecast_with_prophet(df, holidays_df=holidays)\n",
    "\n",
    "    st.subheader(\"Forecast Chart\")\n",
    "    st.line_chart(forecast.set_index('ds')[['yhat', 'yhat_lower', 'yhat_upper']])\n"
   ]
  }
 ],
 "metadata": {
  "language_info": {
   "name": "python"
  }
 },
 "nbformat": 4,
 "nbformat_minor": 5
}
